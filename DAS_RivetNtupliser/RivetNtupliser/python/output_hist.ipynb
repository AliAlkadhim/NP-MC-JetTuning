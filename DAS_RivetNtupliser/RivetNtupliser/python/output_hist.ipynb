{
 "cells": [
  {
   "cell_type": "code",
   "execution_count": 7,
   "id": "0fe36dec-9455-418b-a7a5-34b4620aee94",
   "metadata": {},
   "outputs": [],
   "source": [
    "import uproot\n",
    "import pandas as pd\n",
    "import matplotlib.pyplot as plt\n",
    "import mplhep as hep\n",
    "import numpy as np\n",
    "import awkward as awk\n",
    "import hist"
   ]
  },
  {
   "cell_type": "code",
   "execution_count": 65,
   "id": "b749f172-69f0-464c-aa0c-b45827477893",
   "metadata": {},
   "outputs": [
    {
     "name": "stdout",
     "output_type": "stream",
     "text": [
      "[array([  14.048817,   17.2753  ,   19.109852, 2797.4106  , 2813.0989  ],\n",
      "       dtype=float32)\n",
      " array([  22.277344, 2505.0198  , 2518.519   ], dtype=float32)\n",
      " array([  14.951621,   20.875956,   36.836918,   40.335155,   45.30452 ,\n",
      "          67.194756,  175.31425 , 2373.331   , 2388.144   ], dtype=float32)\n",
      " ... array([  81.24026, 2693.8997 , 2718.5828 ], dtype=float32)\n",
      " array([  21.77561 ,   28.040745,   29.659508,   37.279896,   42.202435,\n",
      "         126.33858 , 2480.9834  , 2554.7925  ], dtype=float32)\n",
      " array([  56.362946, 3004.136   , 3060.9512  ], dtype=float32)]\n",
      "(2000,)\n",
      "\n",
      " WEIGHT ARRAY \n",
      "\n",
      "[array([0.6012982], dtype=float32) array([0.96347743], dtype=float32)\n",
      " array([0.94344234], dtype=float32) ... array([0.71685684], dtype=float32)\n",
      " array([0.8852059], dtype=float32) array([0.40232664], dtype=float32)]\n",
      "(2000,)\n"
     ]
    }
   ],
   "source": [
    "\n",
    "file = 'output.root'\n",
    "f = uproot.open(file)['inclusive_jets']\n",
    "# print(f.keys())\n",
    "branches=['event', 'genJets', 'recJets']\n",
    "\n",
    "event_tree=f['event']\n",
    "genJet_tree=f['genJets']\n",
    "\n",
    "# print(event_tree.keys())\n",
    "\n",
    "df = {}\n",
    "df_genJet_weight_tree=event_tree.arrays('genWgts', library='np')\n",
    "# df['genJetPt']=genJet_tree.arrays('genJets.p4.fPt', library='pd')\n",
    "# df_genJet_tree=genJet_tree.arrays('genJets.p4.fPt', library='pd')\n",
    "df_genJet_tree=genJet_tree.arrays('genJets.p4.fPt',library='np')\n",
    "df_genJet_eta_tree=genJet_tree.arrays('genJets.p4.fEta',library='np')\n",
    "# awk_genJet_pT = awk.Array(df_genJet_tree['genJets.p4.fPt'])\n",
    "# N=df_genJet_tree.shape[0]\n",
    "# print('N=',N)\n",
    "df_genJet_weight_tree=df_genJet_weight_tree['genWgts']\n",
    "df_genJet_tree=df_genJet_tree['genJets.p4.fPt']\n",
    "print(df_genJet_tree)\n",
    "print(df_genJet_tree.shape)\n",
    "print('\\n WEIGHT ARRAY \\n')\n",
    "print(df_genJet_weight_tree)\n",
    "print(df_genJet_weight_tree.shape)\n"
   ]
  },
  {
   "cell_type": "code",
   "execution_count": 9,
   "id": "14a7ac09-92fa-4284-a9e5-22f13cdc0c44",
   "metadata": {},
   "outputs": [
    {
     "name": "stdout",
     "output_type": "stream",
     "text": [
      "[  14.048817   17.2753     19.109852 2797.4106   2813.0989  ]\n",
      "\n",
      "[0.6012982]\n"
     ]
    }
   ],
   "source": [
    "first_event_jetpt=df_genJet_tree[0]\n",
    "first_event_weight=df_genJet_weight_tree[0]\n",
    "print(first_event_jetpt)\n",
    "print()\n",
    "print(first_event_weight)"
   ]
  },
  {
   "cell_type": "code",
   "execution_count": 10,
   "id": "c3f9f6e5-e70f-4fcd-85e6-3511a6f5fdcd",
   "metadata": {},
   "outputs": [
    {
     "name": "stdout",
     "output_type": "stream",
     "text": [
      "[<Array [... 0.601, 0.601, 0.601, 0.601]] type='1 * 5 * float32'>, <Array [... 17.3, 19.1, 2.8e+03, 2.81e+03]] type='1 * 5 * float32'>]\n"
     ]
    }
   ],
   "source": [
    "first_event_broadcasted_weight=awk.broadcast_arrays(first_event_weight[:,np.newaxis], first_event_jetpt)\n",
    "print(first_event_broadcasted_weight)"
   ]
  },
  {
   "cell_type": "code",
   "execution_count": 19,
   "id": "41b4835f-3ee9-4b00-b5e7-f3aee55a2c6a",
   "metadata": {},
   "outputs": [
    {
     "name": "stdout",
     "output_type": "stream",
     "text": [
      "[0.601, 0.601, 0.601, 0.601, 0.601]\n"
     ]
    }
   ],
   "source": [
    "for i in first_event_broadcasted_weight[0]:\n",
    "    print(i)"
   ]
  },
  {
   "cell_type": "code",
   "execution_count": 20,
   "id": "2dedd610-1f92-4447-8edd-c11ff5f7353f",
   "metadata": {},
   "outputs": [
    {
     "name": "stdout",
     "output_type": "stream",
     "text": [
      "[14, 17.3, 19.1, 2.8e+03, 2.81e+03]\n"
     ]
    }
   ],
   "source": [
    "for i in first_event_broadcasted_weight[1]:\n",
    "    print(i)"
   ]
  },
  {
   "cell_type": "code",
   "execution_count": 58,
   "id": "eeba4532-5e97-4789-8912-e5e6523cff54",
   "metadata": {},
   "outputs": [],
   "source": [
    "def broadcast_weights(jetpt_array, jet_weight_array):\n",
    "    flattened_pT, flattened_weight= [], []\n",
    "    for ind, (jetpt, jetweight) in enumerate(zip(jetpt_array, jet_weight_array)):\n",
    "        # print('original', ind, jetpt, jetweight)\n",
    "        # jet_weight_array[ind] = awk.broadcast_arrays(jetweight[:,np.newaxis], jetpt)\n",
    "        broadcasted_weight_i = np.repeat(jetweight, len(jetpt))\n",
    "        # print(broadcasted_weight_i)\n",
    "        # print('broadcasted', ind, jetpt, broadcasted_weight_i) \n",
    "        flattened_pT.extend(jetpt)\n",
    "        flattened_weight.extend(broadcasted_weight_i)\n",
    "    \n",
    "    return np.array(flattened_pT), np.array(flattened_weight)\n",
    "        "
   ]
  },
  {
   "cell_type": "code",
   "execution_count": 59,
   "id": "0d2a1239-8c26-4eb0-8e96-c4c37124b476",
   "metadata": {},
   "outputs": [],
   "source": [
    "flatpT, flatw = broadcast_weights(jetpt_array=df_genJet_tree, jet_weight_array=df_genJet_weight_tree)"
   ]
  },
  {
   "cell_type": "code",
   "execution_count": 63,
   "id": "2ab87fa5-4f8f-442e-a8fc-0fd7ad0dc334",
   "metadata": {},
   "outputs": [
    {
     "data": {
      "text/plain": [
       "<matplotlib.legend.Legend at 0x7ff4cc336690>"
      ]
     },
     "execution_count": 63,
     "metadata": {},
     "output_type": "execute_result"
    },
    {
     "data": {
      "image/png": "[encoded data removed]",
      "text/plain": [
       "<Figure size 432x288 with 1 Axes>"
      ]
     },
     "metadata": {
      "needs_background": "light"
     },
     "output_type": "display_data"
    }
   ],
   "source": [
    "plt.hist(flatpT, weights=flatw, label='weighted', alpha=0.3)\n",
    "plt.hist(flatpT, label='unweighted', alpha=0.3)\n",
    "plt.legend()"
   ]
  },
  {
   "cell_type": "code",
   "execution_count": 70,
   "id": "46e77e34-2886-4289-b2f1-d3a18c08bd23",
   "metadata": {},
   "outputs": [
    {
     "name": "stdout",
     "output_type": "stream",
     "text": [
      "[array([2797.4106, 2813.0989], dtype=float32)\n",
      " array([2505.0198, 2518.519 ], dtype=float32)\n",
      " array([ 175.31425, 2373.331  , 2388.144  ], dtype=float32) ...\n",
      " array([2760.4368, 2800.0708], dtype=float32)\n",
      " array([2573.0186, 2584.8647], dtype=float32)\n",
      " array([2806.6726, 2876.917 ], dtype=float32)]\n",
      "(2000,)\n",
      "\n",
      " WEIGHT ARRAY \n",
      "\n",
      "[array([6.036296e-11], dtype=float32) array([9.672131e-11], dtype=float32)\n",
      " array([9.471003e-11], dtype=float32) ...\n",
      " array([6.588762e-11], dtype=float32)\n",
      " array([8.4863484e-11], dtype=float32)\n",
      " array([5.6822946e-11], dtype=float32)]\n",
      "(2000,)\n"
     ]
    }
   ],
   "source": [
    "file = 'RivetNtupliser_CMS_2021_I1972986_output_with_bias2SelectionRef_15.root'\n",
    "f = uproot.open(file)['inclusive_jets']\n",
    "# print(f.keys())\n",
    "branches=['event', 'genJets', 'recJets']\n",
    "\n",
    "event_tree=f['event']\n",
    "genJet_tree=f['genJets']\n",
    "\n",
    "# print(event_tree.keys())\n",
    "\n",
    "df = {}\n",
    "df_genJet_weight_tree=event_tree.arrays('genWgts', library='np')\n",
    "# df['genJetPt']=genJet_tree.arrays('genJets.p4.fPt', library='pd')\n",
    "# df_genJet_tree=genJet_tree.arrays('genJets.p4.fPt', library='pd')\n",
    "df_genJet_tree=genJet_tree.arrays('genJets.p4.fPt',library='np')\n",
    "df_genJet_eta_tree=genJet_tree.arrays('genJets.p4.fEta',library='np')\n",
    "# awk_genJet_pT = awk.Array(df_genJet_tree['genJets.p4.fPt'])\n",
    "# N=df_genJet_tree.shape[0]\n",
    "# print('N=',N)\n",
    "df_genJet_weight_tree=df_genJet_weight_tree['genWgts']\n",
    "df_genJet_tree=df_genJet_tree['genJets.p4.fPt']\n",
    "print(df_genJet_tree)\n",
    "print(df_genJet_tree.shape)\n",
    "print('\\n WEIGHT ARRAY \\n')\n",
    "print(df_genJet_weight_tree)\n",
    "print(df_genJet_weight_tree.shape)\n",
    "\n",
    "flatpT, flatw = broadcast_weights(jetpt_array=df_genJet_tree, jet_weight_array=df_genJet_weight_tree)"
   ]
  },
  {
   "cell_type": "code",
   "execution_count": 71,
   "id": "470e5b10-8e6b-4dda-9d69-0150512e3744",
   "metadata": {},
   "outputs": [
    {
     "data": {
      "text/plain": [
       "(array([3.655e+03, 1.044e+03, 2.590e+02, 7.200e+01, 4.700e+01, 1.800e+01,\n",
       "        1.000e+01, 3.000e+00, 1.000e+00, 1.000e+00]),\n",
       " array([9.9626168e+09, 1.7577640e+10, 2.5192661e+10, 3.2807682e+10,\n",
       "        4.0422703e+10, 4.8037728e+10, 5.5652749e+10, 6.3267770e+10,\n",
       "        7.0882796e+10, 7.8497817e+10, 8.6112838e+10], dtype=float32),\n",
       " <BarContainer object of 10 artists>)"
      ]
     },
     "execution_count": 71,
     "metadata": {},
     "output_type": "execute_result"
    },
    {
     "data": {
      "image/png": "[encoded data removed]",
      "text/plain": [
       "<Figure size 432x288 with 1 Axes>"
      ]
     },
     "metadata": {
      "needs_background": "light"
     },
     "output_type": "display_data"
    }
   ],
   "source": [
    "plt.hist(1/flatw)"
   ]
  },
  {
   "cell_type": "code",
   "execution_count": null,
   "id": "9640df86-0cae-4871-81cf-049f1f4406dc",
   "metadata": {},
   "outputs": [],
   "source": [
    "ptbins=[97,  133,  174,  220,  272,  330,  395,  468,  548,  638,  737,  846, 967, 1101, 1248, 1410, 1588, 1784, 2000, 2238, 2500, 2787]"
   ]
  },
  {
   "cell_type": "code",
   "execution_count": 67,
   "id": "89796094-79d3-4ab4-a0aa-8a0e2287a5e0",
   "metadata": {},
   "outputs": [
    {
     "ename": "TypeError",
     "evalue": "'<' not supported between instances of 'dict' and 'float'",
     "output_type": "error",
     "traceback": [
      "\u001b[0;31m---------------------------------------------------------------------------\u001b[0m",
      "\u001b[0;31mTypeError\u001b[0m                                 Traceback (most recent call last)",
      "\u001b[0;32m<ipython-input-67-f7f671a95497>\u001b[0m in \u001b[0;36m<module>\u001b[0;34m\u001b[0m\n\u001b[0;32m----> 1\u001b[0;31m \u001b[0mplt\u001b[0m\u001b[0;34m.\u001b[0m\u001b[0mhist\u001b[0m\u001b[0;34m(\u001b[0m\u001b[0mdf_genJet_tree\u001b[0m\u001b[0;34m[\u001b[0m\u001b[0mdf_genJet_eta_tree\u001b[0m\u001b[0;34m<\u001b[0m\u001b[0;36m0.5\u001b[0m\u001b[0;34m]\u001b[0m \u001b[0;34m)\u001b[0m\u001b[0;34m\u001b[0m\u001b[0;34m\u001b[0m\u001b[0m\n\u001b[0m",
      "\u001b[0;31mTypeError\u001b[0m: '<' not supported between instances of 'dict' and 'float'"
     ]
    }
   ],
   "source": [
    "plt.hist(df_genJet_tree[df_genJet_eta_tree<0.5] )"
   ]
  },
  {
   "cell_type": "code",
   "execution_count": 26,
   "id": "792a0ee4-8d82-4b6f-b793-37ea0f5dcbdc",
   "metadata": {},
   "outputs": [
    {
     "ename": "SyntaxError",
     "evalue": "unexpected EOF while parsing (<ipython-input-26-d9e0f373eecd>, line 5)",
     "output_type": "error",
     "traceback": [
      "\u001b[0;36m  File \u001b[0;32m\"<ipython-input-26-d9e0f373eecd>\"\u001b[0;36m, line \u001b[0;32m5\u001b[0m\n\u001b[0;31m    # plt.show()\u001b[0m\n\u001b[0m                ^\u001b[0m\n\u001b[0;31mSyntaxError\u001b[0m\u001b[0;31m:\u001b[0m unexpected EOF while parsing\n"
     ]
    }
   ],
   "source": [
    " h = hist.Hist(hist.axis.Regular(1000, 0, 3000, \n",
    "#                                 label='Number of muons in event')\n",
    "#               )\n",
    "                                ).fill(first_event_jetpt)\n",
    "# plt.show()"
   ]
  }
 ],
 "metadata": {
  "kernelspec": {
   "display_name": "Python 3",
   "language": "python",
   "name": "python3"
  },
  "language_info": {
   "codemirror_mode": {
    "name": "ipython",
    "version": 3
   },
   "file_extension": ".py",
   "mimetype": "text/x-python",
   "name": "python",
   "nbconvert_exporter": "python",
   "pygments_lexer": "ipython3",
   "version": "3.7.10"
  }
 },
 "nbformat": 4,
 "nbformat_minor": 5
}
