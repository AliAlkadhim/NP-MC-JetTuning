{
 "cells": [
  {
   "cell_type": "markdown",
   "id": "b9dd3360-1a51-4e2f-bea9-54c3ed3e23b8",
   "metadata": {},
   "source": [
    "# 5 - Mapping Confidence Sets to Confidence Intervals\n",
    "\n",
    "# Pivotal Likelihood-Free Inference for Count Data in Particle Physics\n",
    "\n",
    "Ali Al Kadhim and Harrison B. Prosper <br>\n",
    "Department of Physics, Florida State University <br>\n",
    "\n",
    "The paper's 4th and final algorithm.\n",
    "\n",
    "## under construction, check back here soon :)"
   ]
  },
  {
   "cell_type": "markdown",
   "id": "7262b272-0e5f-4d35-ab50-6433f4c2497f",
   "metadata": {
    "tags": []
   },
   "source": [
    "### External imports"
   ]
  },
  {
   "cell_type": "code",
   "execution_count": 1,
   "id": "9ffe0acf-df42-4779-8cc3-4f0b85325a61",
   "metadata": {
    "tags": []
   },
   "outputs": [
    {
     "data": {
      "application/vnd.jupyter.widget-view+json": {
       "model_id": "68dd32ffd039495185403f7810a39c53",
       "version_major": 2,
       "version_minor": 0
      },
      "text/plain": [
       "HTMLMath(value='$\\\\LaTeX$')"
      ]
     },
     "metadata": {},
     "output_type": "display_data"
    }
   ],
   "source": [
    "import numpy as np; import pandas as pd\n",
    "import scipy as sp; import scipy.stats as st\n",
    "import torch; import torch.nn as nn\n",
    "#use numba's just-in-time compiler to speed things up\n",
    "from numba import njit\n",
    "from sklearn.preprocessing import StandardScaler; from sklearn.model_selection import train_test_split\n",
    "import matplotlib as mp; import matplotlib.pyplot as plt; \n",
    "#reset matplotlib stle/parameters\n",
    "import matplotlib as mpl\n",
    "mpl.rcParams.update(mpl.rcParamsDefault)\n",
    "plt.style.use('seaborn-deep')\n",
    "mp.rcParams['agg.path.chunksize'] = 10000\n",
    "font_legend = 15; font_axes=15\n",
    "# %matplotlib inline\n",
    "import copy; import sys; import os\n",
    "from IPython.display import Image, display\n",
    "from importlib import import_module\n",
    "\n",
    "try:\n",
    "    import optuna\n",
    "except Exception:\n",
    "    print('optuna is only used for hyperparameter tuning, not critical!')\n",
    "    pass\n",
    "# import sympy as sy\n",
    "#sometimes jupyter doesnt initialize MathJax automatically for latex, so do this\n",
    "import ipywidgets as wid; wid.HTMLMath('$\\LaTeX$')"
   ]
  },
  {
   "cell_type": "markdown",
   "id": "850437f2-0838-48a9-a68c-2b50fa29a114",
   "metadata": {},
   "source": [
    "### import utils"
   ]
  },
  {
   "cell_type": "code",
   "execution_count": 2,
   "id": "f8541853-f338-4d95-889b-dea7d00678ed",
   "metadata": {
    "tags": []
   },
   "outputs": [
    {
     "name": "stdout",
     "output_type": "stream",
     "text": [
      "BASE directoy properly set =  /home/ali/Desktop/Pulled_Github_Repositories/LFI_HEP\n"
     ]
    }
   ],
   "source": [
    "try:\n",
    "    LFI_PIVOT_BASE = os.environ['LFI_PIVOT_BASE']\n",
    "    print('BASE directoy properly set = ', LFI_PIVOT_BASE)\n",
    "    utils_dir = os.path.join(LFI_PIVOT_BASE, 'utils')\n",
    "    sys.path.append(utils_dir)\n",
    "    import utils\n",
    "    #usually its not recommended to import everything from a module, but we know\n",
    "    #whats in it so its fine\n",
    "    from utils import *\n",
    "except Exception:\n",
    "    print(\"\"\"BASE directory not properly set. Read repo README.\\\n",
    "    If you need a function from utils, use the decorator below, or add utils to sys.path\"\"\")\n",
    "    pass"
   ]
  }
 ],
 "metadata": {
  "kernelspec": {
   "display_name": "Python 3 (ipykernel)",
   "language": "python",
   "name": "python3"
  },
  "language_info": {
   "codemirror_mode": {
    "name": "ipython",
    "version": 3
   },
   "file_extension": ".py",
   "mimetype": "text/x-python",
   "name": "python",
   "nbconvert_exporter": "python",
   "pygments_lexer": "ipython3",
   "version": "3.7.10"
  }
 },
 "nbformat": 4,
 "nbformat_minor": 5
}
