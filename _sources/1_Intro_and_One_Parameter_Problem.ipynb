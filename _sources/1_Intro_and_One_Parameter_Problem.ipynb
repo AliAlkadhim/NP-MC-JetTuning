{
 "cells": [
  {
   "cell_type": "markdown",
   "metadata": {},
   "source": [
    "<a name=\"notebook_1\"></a>\n",
    "\n",
    "# 1 - Pivotal LFI for Count Data in Particle Physics: Background and one-parameter Problem\n",
    "\n",
    "Ali Al Kadhim and Harrison B. Prosper<br>\n",
    "Department of Physics, Florida State University<br>\n",
    "\n",
    "November, 2022\n"
   ]
  },
  {
   "cell_type": "markdown",
   "metadata": {},
   "source": [
    "### External imports"
   ]
  },
  {
   "cell_type": "code",
   "execution_count": 1,
   "metadata": {},
   "outputs": [
    {
     "data": {
      "application/vnd.jupyter.widget-view+json": {
       "model_id": "2ca439aa55ba467dac101cb5b946c5aa",
       "version_major": 2,
       "version_minor": 0
      },
      "text/plain": [
       "HTMLMath(value='$\\\\LaTeX$')"
      ]
     },
     "metadata": {},
     "output_type": "display_data"
    }
   ],
   "source": [
    "import numpy as np; import pandas as pd\n",
    "import scipy as sp; import scipy.stats as st\n",
    "import torch; import torch.nn as nn\n",
    "#use numba's just-in-time compiler to speed things up\n",
    "from numba import njit\n",
    "from sklearn.preprocessing import StandardScaler; from sklearn.model_selection import train_test_split\n",
    "import matplotlib as mp; import matplotlib.pyplot as plt; \n",
    "#reset matplotlib stle/parameters\n",
    "import matplotlib as mpl\n",
    "mpl.rcParams.update(mpl.rcParamsDefault)\n",
    "plt.style.use('seaborn-deep')\n",
    "mp.rcParams['agg.path.chunksize'] = 10000\n",
    "font_legend = 15; font_axes=15\n",
    "# %matplotlib inline\n",
    "import copy; import sys; import os\n",
    "from IPython.display import Image, display\n",
    "from importlib import import_module\n",
    "\n",
    "try:\n",
    "    import optuna\n",
    "except Exception:\n",
    "    print('optuna is only used for hyperparameter tuning, not critical!')\n",
    "    pass\n",
    "# import sympy as sy\n",
    "#sometimes jupyter doesnt initialize MathJax automatically for latex, so do this\n",
    "import ipywidgets as wid; wid.HTMLMath('$\\LaTeX$')"
   ]
  },
  {
   "cell_type": "code",
   "execution_count": 2,
   "metadata": {},
   "outputs": [],
   "source": [
    "# update fonts\n",
    "FONTSIZE = 14\n",
    "LABELSIZE=18\n",
    "font = {'family' : 'serif',\n",
    "        'weight' : 'normal',\n",
    "        'size'   : FONTSIZE}\n",
    "mp.rc('font', **font)\n",
    "\n",
    "# set usetex = False if LaTex is not \n",
    "# available on your system or if the \n",
    "# rendering is too slow\n",
    "mp.rc('text', usetex=True)\n",
    "\n",
    "# set a seed to ensure reproducibility\n",
    "seed = 128\n",
    "rnd  = np.random.RandomState(seed)"
   ]
  },
  {
   "cell_type": "markdown",
   "metadata": {},
   "source": [
    "### Import utils"
   ]
  },
  {
   "cell_type": "code",
   "execution_count": 3,
   "metadata": {},
   "outputs": [
    {
     "name": "stdout",
     "output_type": "stream",
     "text": [
      "BASE directoy properly set =  /home/ali/Desktop/Pulled_Github_Repositories/LFI_HEP\n"
     ]
    }
   ],
   "source": [
    "try:\n",
    "    LFI_PIVOT_BASE = os.environ['LFI_PIVOT_BASE']\n",
    "    print('BASE directoy properly set = ', LFI_PIVOT_BASE)\n",
    "    utils_dir = os.path.join(LFI_PIVOT_BASE, 'utils')\n",
    "    sys.path.append(utils_dir)\n",
    "    import utils\n",
    "    #usually its not recommended to import everything from a module, but we know\n",
    "    #whats in it so its fine\n",
    "    from utils import *\n",
    "except Exception:\n",
    "    print(\"\"\"BASE directory not properly set. Read repo README.\\\n",
    "    If you need a function from utils, use the decorator below, or add utils to sys.path\"\"\")\n",
    "    pass\n",
    "\n",
    "PAPER_IMAGE_DIR = os.path.join(os.environ['LFI_PIVOT_BASE'],'PAPER', 'images')"
   ]
  },
  {
   "cell_type": "markdown",
   "metadata": {},
   "source": [
    "# Background on Confidence Intervals\n",
    "\n",
    "Suppose we have a random variable $x$, which is distributed according to some PDF $f(x)$. Then the probability of finding $x$ between $[x^{low}. x^{up}]$ is given by\n",
    "\n",
    "$$ \n",
    "\\text{Prob} \\left( x \\in [x^{low}, x^{up}] \\right) =\\text{Prob} \\left( x^{low} \\le x \\le x^{up} \\right) = \\int_{x^{low}}^{x^{up}} dx f(x) \n",
    "$$\n",
    "\n",
    "We can express this in terms of comulative distribution functions (CDFS) where for a random variable $X$  the CDF is defined as \n",
    "\n",
    "$$\n",
    "F_X(x)=\\text{Prob}(X \\leq x), \\text { for all } x \\in \\mathbb{R}\n",
    "$$\n",
    "\n",
    "And since $x \\in \\mathbb{R}$, we have\n",
    "\n",
    "$$\n",
    "\\int_{-\\infty}^{x^{low}} f(x) dx + \\int_{x^{low}}^{x^{up} } f(x) dx+ \\int_{x^{up}}^{\\infty} f(x)dx = 1\n",
    "$$\n",
    "\n",
    "which, by definition of CDF above, gives\n",
    "\n",
    "$$\n",
    "F(x^{low}) + \\int_{x^{low}}^{x^{up} } f(x) dx+ (1-F(x^{up}) =1,\n",
    "$$\n",
    "\n",
    "which gives\n",
    "\n",
    "$$\n",
    "\\int_{x^{low}}^{x^{up} } f(x) dx =F(x^{up}) - F(x^{low}) \\tag{1}.\n",
    "$$\n",
    "\n",
    "\n",
    "Sometimes we report upper and lower limits, e.g.\n",
    "\n",
    "$$\n",
    "p=\\int_a^{\\infty} \\mathrm{d} x f(x) \\quad \\text { for } \\quad a>A; \\quad \\text{lower limit} \\quad \\text{(with prob. $p$ we are confident that $a$ is larger than $A$ )} \n",
    "$$\n",
    "\n",
    "$$\n",
    "p=\\int_{-\\infty}^{a} \\mathrm{d} x f(x) \\quad \\text { for } \\quad a<A \\quad \\text{upper limit} \\quad \\text{(with prob. $p$ we are confident that $a$ smaller larger than $A$ )} \n",
    "$$\n",
    "\n",
    "Suppose we have a PDF (or PMF) $p(x|\\theta)$ (Sometimes called the posterior. Also, of course $x$ could be a vector of data $\\vec{x}$). We calculate the confidence interval $[\\theta^{low},\\theta^{up}]$ *at a particular chosen confidence level (CL)*, which lets us say the statement \"we are CL $\\times 100$ % confident that the true value of the parameter $\\theta$, $\\theta_{\\text{true}}$ lies within in the range $[\\theta^{low}, \\theta^{up}]$\". Since confidence interval calculation usually follows the Neyman construction, which follows the frequentist philosophy, the statement really should be \"if we were to repeat the experiment (which yields an interval $[\\theta^{low}_i, \\theta^{up}]$ each time), in CL$\\times 100$ % of the time, the true value of the parameter will be in that range\". For example, if CL is chosen to be 0.68 (a common choice since it's one standard deviation in the Gaussian case, and most things in nature are Gaussian), we would obtain 68% confidence intervals.\n",
    "\n",
    "If we were to write down a formula for this, the interval $[\\theta^{low}, \\theta^{up}]$ would be attained by solving for $\\theta^{low}, \\theta^{up}$ in the equation\n",
    "\n",
    "$$ CL = \\int_{\\theta^{low} }^{\\theta^{up}} p(\\vec{x} | \\theta) d \\theta \\tag{2} $$\n",
    "\n",
    "Sometime Eq (2), when solved by calculating the intergral analytically, is referred to a Bayesian (or \"Credible\") interval. The frequentist approach calculates the Confidence interval by the use of a test statistic (more on this later) and using hypothesis testing (and hence attaining the interval by Neyman construction).\n",
    "\n",
    "## Hypothesis Testing\n",
    "\n",
    "Test statistics play a paramount role in the theory of hypothesis testing. Given observed data $x$, a test statistic $\\lambda$ evaluated for the observed data $\\lambda_{\\text{observed}}$ is the only way to decide which of two hypothesis; the null hypothesis $H_{0}$ (parameterized by parameters $\\theta_0$) and the alternative hypothesis $H_1$ (parameterized by parameters $\\theta_1$). \n",
    "\n",
    "Everything from now on in hypothesis testing assumes that $H_0$ is true. You then divide your sample space into two regions: a \"critical region\", $\\omega$ and the complement to the critical region, $\\Omega \\setminus \\omega$. The regions are chosen basede on the following:\n",
    "- If an observation (or set of observations) $\\vec{x}$ falls in $\\omega$, we reject $H_0$ (in favor of $H_1$), and\n",
    "- If an observation (or set of observations) $\\vec{x}$ falls in $\\Omega \\setminus \\omega$ we accept $H_0$, which in our case also means rejecting $H_1$).\n",
    "\n",
    "You start the procedure of hypothesis testing by making the obvious but powerful statement:\n",
    "> \"We want to restrict the probability of rejecting the null $H_0$ in the case that $H_0$ is true (since, by rejecting $H_0$ when it is in fact true, we would be making a mistake)\"\n",
    "\n",
    "Mathematicall, the statement above means that \"we want to restrict $\\text{Prob} (\\text{reject} H_0 \\mid H_0) $\". We then define an upper limit for how often we can let such an error of rejecting $H_0$ when it is in fact true as a small number $\\alpha$, so \n",
    "\n",
    "> > $\\alpha >> \\text{Prob} (\\text{reject} H_0 \\mid H_0) .$\n",
    "\n",
    "\n",
    "(Footnote: Birnbaum (1962, 1977) suggested that $\\frac{\\alpha}{1-\\beta}$ should be used as a measure of the strength of a statistical test, rather than $\\alpha$ alone.). Since by our hypothesis test construction, we have $\\vec{x}$ lieing in $\\omega$ to be requivalent to rejecting $H_0$, we attain the following restriction\n",
    "\n",
    ">>> $\\text{Prob}(\\vec{x} \\in \\omega \\mid H_0 ) \\le \\alpha$.\n",
    "\n",
    "# Test statistics\n",
    "A test statistic $\\lambda$ is a function of the data that compresses the data in such as way that, ideally, all relevant information in the data about the parameter $\\theta$ is preserved.\n",
    "\n",
    "One can construct an infinite number of test statistics, by choosing different functions of the data $x$, but most functions of the data are useless! The Neyman-Pearson (NP) Lemma states that the most powerful test statistic. (footnote: By powerful we mean that it has the greatest Power $\\equiv 1-\\beta$ where $\\beta$ is the probability of rejecting $H_1$ when it is in fact true, commonly referred to as \"Type II Error\".) between simple hypothesis $H_0$ and $H_1$ is $\\lambda_{NP}=\\frac{L(H_1)}{L(H_0)} = \\frac{L(x |\\theta_1)}{L(x|\\theta_0)}$, which rejects $H_0$ in favor of $H_1$. For convenience, it is used as $\\lambda_{NP}=-2 \\log \\frac{L(x|\\theta_0)}{L(x|\\theta_1)}$.\n",
    "\n",
    "Conceptually, in statistical evidence analyses one uses the test statistic that minimizes $\\alpha$ while maximizing $1-\\beta$. Where $\\alpha$ is Type I error\n",
    "\n",
    "$$\n",
    "    \\alpha = \\text{Prob}(\\text{Reject } H_0 \\mid H_0) \\tag{3}\n",
    "$$\n",
    "\n",
    "\n",
    "$$\n",
    "1-\\beta = \\text{Prob}(\\text{Reject } H_0 | H_1) \\tag{4}\n",
    "$$\n",
    "\n",
    "(Birnbaum (1962, 1977) suggested that $\\frac{\\alpha}{1-\\beta}$ should be used as a measure of the strength of a statistical test, rather than $\\alpha$ alone.)"
   ]
  },
  {
   "cell_type": "markdown",
   "metadata": {},
   "source": [
    "# Single Parameter Poisson Problem\n",
    "\n",
    "We propose in this study that even though LFI methods are used to make inderences when we do not have access to the likelihood function, we still want to use these methods in the case where we do know the likelihood explicitly, in order to arrive at frequentist guarantees.\n",
    "\n",
    "Before we go on to demonstrate our methods, we review the relevant statistics "
   ]
  },
  {
   "cell_type": "markdown",
   "metadata": {},
   "source": [
    "\n",
    "Suppose we have the Poisson distribution\n",
    "\n",
    "$$\n",
    "P(N | \\theta)  =L(\\theta) =   \\frac{e^{-\\theta} \\theta^N}{N!} \\tag{5} , \n",
    "$$\n",
    "\n",
    "where $N$ is the observed count (in e.g. single bin/channel) and $\\theta$ is the expected mean count (the only parameter in the Poisson distribution).\n",
    "\n",
    "If you don't know what this looks like, for a set value $N$, it's simply\n",
    "\n",
    "\n"
   ]
  },
  {
   "cell_type": "code",
   "execution_count": 6,
   "metadata": {},
   "outputs": [
    {
     "name": "stderr",
     "output_type": "stream",
     "text": [
      "The PostScript backend does not support transparency; partially transparent artists will be rendered opaque.\n"
     ]
    },
    {
     "data": {
      "image/png": "[encoded data removed]",
      "text/plain": [
       "<Figure size 640x480 with 1 Axes>"
      ]
     },
     "metadata": {},
     "output_type": "display_data"
    }
   ],
   "source": [
    "N=4; theta=np.arange(0,10,0.01)\n",
    "L =st.poisson.pmf(N, mu=theta)\n",
    "fig,ax = plt.subplots()\n",
    "plt.scatter(theta, L, label='N=4', linewidths=0.1); \n",
    "plt.xlabel(r'$\\theta$', fontsize=LABELSIZE); plt.ylabel(r'$L(\\theta)$', fontsize=LABELSIZE); \n",
    "plt.axvline(x=4, color='r')\n",
    "\n",
    "plt.text(4.2, 0.06, s=r'$\\hat{\\theta}_{MLE}=4$', color='r')\n",
    "plt.legend(); \n",
    "plt.savefig(os.path.join(PAPER_IMAGE_DIR, 'L_one_param_4.eps'))\n",
    "plt.show()"
   ]
  },
  {
   "cell_type": "markdown",
   "metadata": {},
   "source": [
    "We can calculate the CDF $F(\\theta)$\n",
    "\n",
    "$$\n",
    "F(\\theta) = \\sum_{k=0}^N \\textrm{Poisson}(k, \\theta) = \\sum_{k=0}^N \\frac{e^{-\\theta} \\theta^N}{N!}\n",
    "$$\n",
    "\n",
    "Let us plot it and simplify it with the help of scipy"
   ]
  },
  {
   "cell_type": "code",
   "execution_count": 7,
   "metadata": {},
   "outputs": [
    {
     "name": "stdout",
     "output_type": "stream",
     "text": [
      "(40, 40) \t\t (40, 40)\n"
     ]
    },
    {
     "data": {
      "image/png": "[encoded data removed]",
      "text/plain": [
       "<Figure size 640x480 with 2 Axes>"
      ]
     },
     "metadata": {},
     "output_type": "display_data"
    }
   ],
   "source": [
    "N_range=np.linspace(0,10,40)[:, np.newaxis]\n",
    "theta_range = np.linspace(0,20,40)\n",
    "PCDF = sp.stats.poisson.cdf(k=N_range, mu=theta_range)\n",
    "theta_N_grid=np.meshgrid(theta_range, N_range)\n",
    "#remember meshgrid returns TWo arrays\n",
    "print(theta_N_grid[0].shape, '\\t\\t', theta_N_grid[1].shape) \n",
    "plt.pcolor(theta_N_grid[0], theta_N_grid[1], PCDF, shading='auto')\n",
    "plt.colorbar(label='Poisson CDF $F(\\theta)$')\n",
    "plt.xlabel(r'$\\theta$'); plt.ylabel(r'$N$')\n",
    "plt.savefig(os.path.join(PAPER_IMAGE_DIR, 'Poisson_OneParam_CDF.eps'))\n",
    "plt.show()"
   ]
  },
  {
   "cell_type": "markdown",
   "metadata": {
    "id": "40Yb47zJQglm"
   },
   "source": [
    "\n",
    "The single count Poisson Model is a classic problem in statistics. Exact coverage means that the following is true\n",
    "\n",
    "\\begin{align}\n",
    "    P\\{ \\theta \\in [ \\, \\underline{\\theta}(n), \\, \\overline{\\theta}(n) \\, ] \\, \\} \\geq 1 - \\alpha, \\forall \\textrm{ fixed values of } \\theta , \n",
    "\\end{align}\n",
    "\n",
    "where $P$ is called the __coverage probability__, $1 - \\alpha$ the confidence level (CL), and $\\alpha$ the size of the associated hypothesis test. For a given experiment, the parameter $\\theta$, the mean count, is presumed *fixed*. But the quantity $[ \\, \\underline{\\theta}(n), \\, \\overline{\\theta}(n) \\, ]$ is a *random* interval which, in general, differs from one experiment to another. \n",
    "\n",
    "Jerzy Neyman[2], the inventor of __confidence intervals__, required these random intervals to have the following property.\n",
    "In an infinite ensemble of experiments, each of which may be associated with a different *fixed* values of the parameters of the statistocal model, including $\\theta$, the fraction of intervals that include $\\theta$, that is, that *cover* $\\theta$, is bounded below by the desired confidence level (CL). Moreover, this must hold true irrespective of the distribution of values of the parameters over the ensemble of experiments. \n",
    "\n",
    "In general, for multi-parameter problems, it is difficult to create random intervals with this property.  But for 1-parameter problems confidence intervals with exact coverage can be constructed. \n",
    "\n",
    "For 1-parameter problems, Neyman provided a simple algorithm to compute such intervals, which in this tutorial we illustrate by applying it to the Poisson distribution. The algorithm can be applied to any 1-parameter problem given the sampling distribution of a statistic that depends on the observations, in this example the Poisson count $n$. \n",
    "As the name implies, the __sampling distribution__ of $t$ is the distribution of $t$ induced by the underlying distribution of the potential observations. In this notebook, the statistic $t$ is simply $t(n) = \\hat{\\theta} = n$. \n",
    "\n",
    "\n",
    "What this means in practice is that the accuracy (suitably defined) with which $\\theta$ can be estimated from $t$ is equal to the accuracy with which $\\theta$ can be estimated directly from the data without compression. A statistic with this property, for a given parameter, is called a __sufficient statistic__ for that parameter. Obviously, the uncompressed data are sufficient statistics! The challenge is finding sufficient statistics that substantially compress the data.\n",
    "\n",
    "\n",
    "### Algorithm\n",
    "Define the *right* and *left* cumulative distribution functions of the\n",
    "sampling distribution, $f_\\theta(t)$, by\n",
    " \\begin{align}\n",
    "      D_R(x, \\theta) & = \\int_{t \\geq x} f_\\theta(t) \\, dt \\textrm{ and } \\\\ \n",
    "      D_L(x, \\theta) & = \\int_{t \\leq x} f_\\theta(t) \\, dt.\n",
    " \\end{align}\n",
    "By solving the equations\n",
    "\\begin{align}\n",
    "    D_R(x, \\underline{\\theta}) & = \\alpha_R,\\\\\n",
    "    D_L(x, \\overline{\\theta}) & =  \\alpha_L,\n",
    "\\end{align}\n",
    "with $x$ replaced by the observed values of the statistic $t$, say $t_0$,\n",
    "one obtains the lower and upper limits $\\underline{\\theta}(t_0)$ and \n",
    "$\\overline{\\theta}(t_0)$, respectively, at confidence level CL\n",
    "where $\\text{CL} + \\alpha_R + \\alpha_L = 1$. For multi-parameter problems one can always create __confidence regions__, or sets, with exact coverage. The difficulty arises when one wishes to compute confidence regions, including intervals with exact coverage for a subset of the parameters irrespective of the values of the remaining parameters. Again, by exact coverage we mean coverage probabilities that never fall below the desired confidence level over any infinite ensemble of experiments.\n",
    "\n",
    "Clearly for a given confidence level there are infinitely many ensembles of confidence intervals or regions that can be computed. Which interval or region is reported is a matter of convention. For a 1-parameter sampling distribution the following convention is often used: one sets $\\alpha_R = \\alpha_L = (1 - \\text{CL})/2$ to arrive at __central intervals__.\n",
    "\n",
    "\n",
    "### Application to the Poisson distribution\n",
    "The Neyman algorithm, applied to the test statistic $t(n) = n$ for the\n",
    "Poisson distribution, requires the functions \n",
    " \\begin{align}\n",
    "      D_R(N, \\theta) & = \\sum_{k=N}^\\infty \\textrm{Poisson}(k, \\theta) = P(N, \\theta),\\\\\n",
    "      \\textrm{and   } D_L(N, \\theta) & = \\sum_{k=0}^N \\textrm{Poisson}(k, \\theta) = 1 - P(N+1, \\theta) ,\n",
    " \\end{align}\n",
    "where $P(s, \\theta)$ is the *normalized* lower incomplete gamma function[3] (in scipy it's s`scipy.special.gammainc(s, mu)`.\n",
    "\n",
    "#### Neyman Construction in two lines\n",
    "\n",
    "Neyman construction in this simple case boils down to:\n",
    "- Solve $(1-CL)/2 = D_R \\rightarrow$ get $\\theta_R$\n",
    "- Solve $(1-CL)/2 = D_L \\rightarrow$ get $\\theta_L$\n",
    "\n",
    "\n",
    "In this notebook, we use the LFI method of Ref.[1] to approximate $E(Z | \\theta, N)$, that is, $D_L(N, \\theta)$ using a simple deep neural network trained, that is, fitted, to data comprising the triplets $(Z_i, \\theta_i, N_i)$. (See notebook __LFI_generate_data.ipynb__ for details.) \n",
    "\n",
    "\n",
    "\n",
    "### Initial References\n",
    "  1. Anne Lee et al., https://arxiv.org/abs/2107.03920\n",
    "  2. Neyman, Jerzy (1937). \"Outline of a Theory of Statistical Estimation Based on the Classical Theory of Probability\". Philosophical Transactions of the Royal Society of London. Series A, Mathematical and Physical Sciences. 236 (767): 333–380. doi:10.1098/rsta.1937.0005.\n",
    "  3. https://en.wikipedia.org/wiki/Incomplete_gamma_function. The normalized function is the unnormalized function divided by $\\Gamma(s)$ and can be computed using scipy.special.gammainc($s$, $\\theta$).\n",
    "\n"
   ]
  },
  {
   "cell_type": "markdown",
   "metadata": {},
   "source": [
    "### Load data"
   ]
  },
  {
   "cell_type": "code",
   "execution_count": 3,
   "metadata": {},
   "outputs": [
    {
     "name": "stdout",
     "output_type": "stream",
     "text": [
      "loading data1.db\n"
     ]
    },
    {
     "data": {
      "text/html": [
       "<div>\n",
       "<style scoped>\n",
       "    .dataframe tbody tr th:only-of-type {\n",
       "        vertical-align: middle;\n",
       "    }\n",
       "\n",
       "    .dataframe tbody tr th {\n",
       "        vertical-align: top;\n",
       "    }\n",
       "\n",
       "    .dataframe thead th {\n",
       "        text-align: right;\n",
       "    }\n",
       "</style>\n",
       "<table border=\"1\" class=\"dataframe\">\n",
       "  <thead>\n",
       "    <tr style=\"text-align: right;\">\n",
       "      <th></th>\n",
       "      <th>Z1</th>\n",
       "      <th>Z2</th>\n",
       "      <th>theta</th>\n",
       "      <th>N</th>\n",
       "    </tr>\n",
       "  </thead>\n",
       "  <tbody>\n",
       "    <tr>\n",
       "      <th>0</th>\n",
       "      <td>0</td>\n",
       "      <td>1</td>\n",
       "      <td>9.363525</td>\n",
       "      <td>4</td>\n",
       "    </tr>\n",
       "    <tr>\n",
       "      <th>1</th>\n",
       "      <td>0</td>\n",
       "      <td>0</td>\n",
       "      <td>10.274183</td>\n",
       "      <td>8</td>\n",
       "    </tr>\n",
       "    <tr>\n",
       "      <th>2</th>\n",
       "      <td>0</td>\n",
       "      <td>0</td>\n",
       "      <td>6.764226</td>\n",
       "      <td>8</td>\n",
       "    </tr>\n",
       "    <tr>\n",
       "      <th>3</th>\n",
       "      <td>1</td>\n",
       "      <td>1</td>\n",
       "      <td>0.804674</td>\n",
       "      <td>2</td>\n",
       "    </tr>\n",
       "    <tr>\n",
       "      <th>4</th>\n",
       "      <td>0</td>\n",
       "      <td>1</td>\n",
       "      <td>4.275650</td>\n",
       "      <td>2</td>\n",
       "    </tr>\n",
       "  </tbody>\n",
       "</table>\n",
       "</div>"
      ],
      "text/plain": [
       "   Z1  Z2      theta  N\n",
       "0   0   1   9.363525  4\n",
       "1   0   0  10.274183  8\n",
       "2   0   0   6.764226  8\n",
       "3   1   1   0.804674  2\n",
       "4   0   1   4.275650  2"
      ]
     },
     "execution_count": 3,
     "metadata": {},
     "output_type": "execute_result"
    }
   ],
   "source": [
    "datafile = 'data1.db'\n",
    "print('loading %s' % datafile)\n",
    "data = jb.load(datafile)\n",
    "\n",
    "target = 'Z1'\n",
    "source = ['theta', 'N']\n",
    "data[:5]"
   ]
  },
  {
   "cell_type": "markdown",
   "metadata": {},
   "source": [
    "### Define functions\n",
    "$\n",
    "\\begin{align}\n",
    "      D_R(N, \\theta) & = \\sum_{k=N}^\\infty \\textrm{Poisson}(k, \\theta) = P(N, \\theta),\\\\\n",
    "      \\textrm{and   } D_L(N, \\theta) & = \\sum_{k=0}^N \\textrm{Poisson}(k, \\theta) = 1 - P(N+1, \\theta).\n",
    "\\end{align}\n",
    "$"
   ]
  },
  {
   "cell_type": "code",
   "execution_count": 4,
   "metadata": {},
   "outputs": [],
   "source": [
    "def DR(x, theta):\n",
    "    return sp.special.gammainc(x, theta)\n",
    "\n",
    "def DL(x, theta):\n",
    "    return 1 - sp.special.gammainc(x+1, theta)"
   ]
  },
  {
   "cell_type": "markdown",
   "metadata": {},
   "source": [
    "### Plot data"
   ]
  },
  {
   "cell_type": "markdown",
   "metadata": {},
   "source": [
    "Check that data make sense. Compute $D_L$ by histogramming the data and compare it to $D_L$ computed exactly.\n",
    "\n",
    "\n",
    "Note: __matplotlib__ has two graphics systems: 1) function-based and 2) object-based. The function below illustrates the object-based system."
   ]
  },
  {
   "cell_type": "code",
   "execution_count": 5,
   "metadata": {},
   "outputs": [],
   "source": [
    "# Check that histogrammed data agree with exact calculation of DL.\n",
    "\n",
    "# Check that histogrammed data agrees with exact calculation of DL.\n",
    "\n",
    "XMIN  = 0\n",
    "XMAX  = 20\n",
    "XBINS = 200\n",
    "\n",
    "def hist_data(data, N, \n",
    "              xbins=XBINS, \n",
    "              xmin=XMIN, \n",
    "              xmax=XMAX):\n",
    "    \n",
    "    xrange = (xmin, xmax)\n",
    "    \n",
    "    select = data.N == N\n",
    "\n",
    "    # weighted histogram   (count the number of ones per bin)\n",
    "    # y1 - counts\n",
    "    # bb - bin boundaries (including boundary of rightmost bin)\n",
    "    y1, bb = np.histogram(data.theta[select], \n",
    "                          bins=xbins, \n",
    "                          range=xrange, \n",
    "                          weights=data.Z1[select]) \n",
    "\n",
    "    # unweighted histogram (count number of ones and zeros per bin)\n",
    "    yt, _  = np.histogram(data.theta[select], \n",
    "                          bins=xbins, \n",
    "                          range=xrange)\n",
    "\n",
    "    # approximation of DL(N, x)\n",
    "    y =  y1 / yt    \n",
    "\n",
    "    # exact DL\n",
    "\n",
    "    x = (bb[1:]+bb[:-1])/2\n",
    "    p = DL(N, x)\n",
    "    \n",
    "    return (y, p, bb)"
   ]
  },
  {
   "cell_type": "code",
   "execution_count": 6,
   "metadata": {},
   "outputs": [],
   "source": [
    "def plot_data(data, func, Nmin, Nmax,\n",
    "              gfile='fig_data.png', \n",
    "              fgsize=(10, 6)):\n",
    "    \n",
    "    # make room for up to 6 sub-plots\n",
    "    fig, ax = plt.subplots(nrows=2, \n",
    "                           ncols=3, \n",
    "                           figsize=fgsize)\n",
    "    \n",
    "    # padding\n",
    "    plt.subplots_adjust(hspace=0.01)\n",
    "    plt.subplots_adjust(wspace=0.20)\n",
    "    \n",
    "    # use flatten() to convert a numpy array of \n",
    "    # shape (nrows, ncols) to a 1-d array of\n",
    "    # length nrows * ncols\n",
    "    ax = ax.flatten()\n",
    "    \n",
    "    for j, N in enumerate(range(Nmin, Nmax+1)):\n",
    "        \n",
    "        # compute DL\n",
    "        # y  - DL approximation\n",
    "        # p  - DL exact\n",
    "        # bb - bin boundaries (in theta) \n",
    "        y, p, bb = func(data, N)\n",
    "        \n",
    "        xmin = bb[0]\n",
    "        xmax = bb[-1]\n",
    "        ax[j].set_xlim(xmin, xmax)\n",
    "        ax[j].set_ylim(0, 1)\n",
    "        ax[j].set_xlabel(r'$\\theta$', fontsize=FONTSIZE)\n",
    "        ax[j].set_ylabel(r'$E(Z|\\theta)$', fontsize=FONTSIZE)\n",
    "        \n",
    "        x = (bb[1:]+bb[:-1])/2 \n",
    "        ax[j].plot(x, y, 'b', lw=2, label='approx')\n",
    "        ax[j].plot(x, p, 'r', lw=2, label='exact')\n",
    "        \n",
    "        ax[j].grid(True, which=\"both\", linestyle='-')\n",
    "        ax[j].text(10.2, 0.42, r'$N = %d$' % N, fontsize=FONTSIZE) \n",
    "\n",
    "        ax[j].legend(loc='upper right')\n",
    "        \n",
    "    # hide unused sub-plots\n",
    "    for k in range(Nmax+1-Nmin, len(ax)):\n",
    "        ax[k].set_visible(False)\n",
    "    \n",
    "    plt.tight_layout()\n",
    "    plt.savefig(gfile)\n",
    "    plt.show()"
   ]
  },
  {
   "cell_type": "code",
   "execution_count": 7,
   "metadata": {},
   "outputs": [
    {
     "data": {
      "image/png": "[encoded data removed]",
      "text/plain": [
       "<Figure size 720x432 with 6 Axes>"
      ]
     },
     "metadata": {
      "needs_background": "light"
     },
     "output_type": "display_data"
    }
   ],
   "source": [
    "Nmin, Nmax = 0, 5\n",
    "plot_data(data, hist_data, Nmin, Nmax) "
   ]
  },
  {
   "cell_type": "markdown",
   "metadata": {},
   "source": [
    "### Train, validation, and test sets\n",
    "There is some confusion in terminology regarding validation and test samples (or sets). We shall adhere to the defintions given here https://machinelearningmastery.com/difference-test-validation-datasets/):\n",
    "   \n",
    "  * __Training Dataset__: The sample of data used to fit the model.\n",
    "  * __Validation Dataset__: The sample of data used to decide 1) whether the fit is reasonable (e.g., the model has not been overfitted), 2) decide which of several models is the best and 3) tune model hyperparameters.\n",
    "  * __Test Dataset__: The sample of data used to provide an unbiased evaluation of a final model fit on the training dataset.\n",
    "\n",
    "The validation set will be some small fraction of the training set and will be used to decide when to stop the training."
   ]
  },
  {
   "cell_type": "code",
   "execution_count": 8,
   "metadata": {},
   "outputs": [
    {
     "name": "stdout",
     "output_type": "stream",
     "text": [
      "train set size:        500000\n",
      "validation set size:     5000\n",
      "test set size:           5000\n"
     ]
    },
    {
     "data": {
      "text/html": [
       "<div>\n",
       "<style scoped>\n",
       "    .dataframe tbody tr th:only-of-type {\n",
       "        vertical-align: middle;\n",
       "    }\n",
       "\n",
       "    .dataframe tbody tr th {\n",
       "        vertical-align: top;\n",
       "    }\n",
       "\n",
       "    .dataframe thead th {\n",
       "        text-align: right;\n",
       "    }\n",
       "</style>\n",
       "<table border=\"1\" class=\"dataframe\">\n",
       "  <thead>\n",
       "    <tr style=\"text-align: right;\">\n",
       "      <th></th>\n",
       "      <th>theta</th>\n",
       "      <th>N</th>\n",
       "    </tr>\n",
       "  </thead>\n",
       "  <tbody>\n",
       "    <tr>\n",
       "      <th>0</th>\n",
       "      <td>19.058267</td>\n",
       "      <td>9</td>\n",
       "    </tr>\n",
       "    <tr>\n",
       "      <th>1</th>\n",
       "      <td>7.885420</td>\n",
       "      <td>9</td>\n",
       "    </tr>\n",
       "    <tr>\n",
       "      <th>2</th>\n",
       "      <td>18.455130</td>\n",
       "      <td>3</td>\n",
       "    </tr>\n",
       "    <tr>\n",
       "      <th>3</th>\n",
       "      <td>12.604207</td>\n",
       "      <td>5</td>\n",
       "    </tr>\n",
       "    <tr>\n",
       "      <th>4</th>\n",
       "      <td>6.384315</td>\n",
       "      <td>3</td>\n",
       "    </tr>\n",
       "  </tbody>\n",
       "</table>\n",
       "</div>"
      ],
      "text/plain": [
       "       theta  N\n",
       "0  19.058267  9\n",
       "1   7.885420  9\n",
       "2  18.455130  3\n",
       "3  12.604207  5\n",
       "4   6.384315  3"
      ]
     },
     "execution_count": 8,
     "metadata": {},
     "output_type": "execute_result"
    }
   ],
   "source": [
    "# Fraction of the data assigned as test data\n",
    "fraction = 1/102\n",
    "# Split data into a part for training and a part for testing\n",
    "train_data, test_data = train_test_split(data, \n",
    "                                         test_size=fraction)\n",
    "\n",
    "# Split the training data into a part for training (fitting) and\n",
    "# a part for validating the training.\n",
    "fraction = 1/101\n",
    "train_data, valid_data = train_test_split(train_data, \n",
    "                                          test_size=fraction)\n",
    "\n",
    "# reset the indices in the dataframes and drop the old ones\n",
    "train_data = train_data.reset_index(drop=True)\n",
    "valid_data = valid_data.reset_index(drop=True)\n",
    "test_data  = test_data.reset_index(drop=True)\n",
    "\n",
    "print('train set size:        %6d' % train_data.shape[0])\n",
    "print('validation set size:   %6d' % valid_data.shape[0])\n",
    "print('test set size:         %6d' % test_data.shape[0])\n",
    "\n",
    "train_data[:5][source]"
   ]
  },
  {
   "cell_type": "markdown",
   "metadata": {},
   "source": [
    "Split data into targets $t$ and inputs $\\mathbf{x}$"
   ]
  },
  {
   "cell_type": "code",
   "execution_count": 9,
   "metadata": {},
   "outputs": [],
   "source": [
    "def split_t_x(df, target, source):\n",
    "    # change from pandas dataframe format to a numpy \n",
    "    # array of the specified types\n",
    "    t = np.array(df[target])\n",
    "    x = np.array(df[source])\n",
    "    return (t, x)\n",
    "\n",
    "train_t, train_x = split_t_x(train_data, target, source)\n",
    "valid_t, valid_x = split_t_x(valid_data, target, source)\n",
    "test_t,  test_x  = split_t_x(test_data,  target, source)"
   ]
  },
  {
   "cell_type": "markdown",
   "metadata": {},
   "source": [
    "### Return a (random) batch of data from the training set"
   ]
  },
  {
   "cell_type": "code",
   "execution_count": 10,
   "metadata": {},
   "outputs": [],
   "source": [
    "def get_batch(x, t, batch_size):\n",
    "    # the numpy function choice(length, number)\n",
    "    # selects at random \"batch_size\" integers from \n",
    "    # the range [0, length-1] corresponding to the\n",
    "    # row indices.\n",
    "    rows    = rnd.choice(len(x), batch_size)\n",
    "    batch_x = x[rows]\n",
    "    batch_t = t[rows]\n",
    "    return (batch_x, batch_t)"
   ]
  },
  {
   "cell_type": "markdown",
   "metadata": {},
   "source": [
    "### Empirical risk (that is, average loss)\n",
    "\n",
    "The empirical risk, which is the __objective function__ we shall minimize, is defined as\n",
    "\n",
    "\\begin{align}\n",
    "R_M(\\theta) & = \\frac{1}{M}\\sum_{m=1}^M L(t_m, f_m),\n",
    "\\end{align}\n",
    "\n",
    "where \n",
    "\n",
    "\\begin{align*}\n",
    "    f_m & \\equiv f(\\mathbf{x}_m, \\theta),\\\\ \\\\ \\textrm{and} \\\\\n",
    "    L(t, f) &= (t - f)^2\n",
    "\\end{align*}\n",
    "\n",
    "The empirical risk $R_M$ approximates the __risk__\n",
    "\n",
    "\\begin{align}\n",
    "R[f] & = \\int \\cdots \\int \\, p(t, \\mathbf{x}) \\, L(t, f(\\mathbf{x}, \\theta)) \\, dt \\, d\\mathbf{x},\n",
    "\\end{align}\n",
    "\n",
    "which is a __functional__ of the model $f$. The quantity $p(t, \\mathbf{x}) \\, dt\\, d\\mathbf{x}$ is the probability distribution from which the sample $\\{ (t_m, \\mathbf{x}_m), m = 1,\\cdots, M \\}$ is presumed to have been drawn. "
   ]
  },
  {
   "cell_type": "code",
   "execution_count": 11,
   "metadata": {},
   "outputs": [],
   "source": [
    "# Note: there are several average loss functions available \n",
    "# in pytorch, but it's useful to know how to create your own.\n",
    "def average_loss(f, t):\n",
    "    # f and t must be of the same shape\n",
    "    return  torch.mean((f - t)**2)"
   ]
  },
  {
   "cell_type": "markdown",
   "metadata": {},
   "source": [
    "This function is used to validate the model while the it is being fitted."
   ]
  },
  {
   "cell_type": "code",
   "execution_count": 12,
   "metadata": {},
   "outputs": [],
   "source": [
    "def validate(model, avloss, inputs, targets):\n",
    "    # make sure we set evaluation mode so that any training specific\n",
    "    # operations are disabled.\n",
    "    model.eval() # evaluation mode\n",
    "    \n",
    "    with torch.no_grad(): # no need to compute gradients wrt. x and t\n",
    "        x = torch.from_numpy(inputs).float()\n",
    "        t = torch.from_numpy(targets).float()\n",
    "        # remember to reshape!\n",
    "        o = model(x).reshape(t.shape)\n",
    "    return avloss(o, t)"
   ]
  },
  {
   "cell_type": "markdown",
   "metadata": {},
   "source": [
    "### Function to execute training loop"
   ]
  },
  {
   "cell_type": "code",
   "execution_count": 13,
   "metadata": {},
   "outputs": [],
   "source": [
    "def train(model, optimizer, avloss, getbatch,\n",
    "          train_x, train_t, \n",
    "          valid_x, valid_t,\n",
    "          batch_size, \n",
    "          n_iterations, traces, \n",
    "          step=50):\n",
    "    \n",
    "    # to keep track of average losses\n",
    "    xx, yy_t, yy_v = traces\n",
    "    \n",
    "    n = len(valid_x)\n",
    "    \n",
    "    print('Iteration vs average loss')\n",
    "    print(\"%10s\\t%10s\\t%10s\" % \\\n",
    "          ('iteration', 'train-set', 'valid-set'))\n",
    "    \n",
    "    for ii in range(n_iterations):\n",
    "\n",
    "        # set mode to training so that training specific \n",
    "        # operations such as dropout are enabled.\n",
    "        model.train()\n",
    "        \n",
    "        # get a random sample (a batch) of data (as numpy arrays)\n",
    "        batch_x, batch_t = getbatch(train_x, train_t, batch_size)\n",
    "        \n",
    "        # convert the numpy arrays batch_x and batch_t to tensor \n",
    "        # types. The PyTorch tensor type is the magic that permits \n",
    "        # automatic differentiation with respect to parameters. \n",
    "        # However, since we do not need to take the derivatives\n",
    "        # with respect to x and t, we disable this feature\n",
    "        with torch.no_grad(): # no need to compute gradients \n",
    "            # wrt. x and t\n",
    "            x = torch.from_numpy(batch_x).float()\n",
    "            t = torch.from_numpy(batch_t).float()      \n",
    "\n",
    "        # compute the output of the model for the batch of data x\n",
    "        # Note: outputs is \n",
    "        #   of shape (-1, 1), but the tensor targets, t, is\n",
    "        #   of shape (-1,)\n",
    "        # In order for the tensor operations with outputs and t\n",
    "        # to work correctly, it is necessary that they have the\n",
    "        # same shape. We can do this with the reshape method.\n",
    "        outputs = model(x).reshape(t.shape)\n",
    "   \n",
    "        # compute a noisy approximation to the average loss\n",
    "        empirical_risk = avloss(outputs, t)\n",
    "        \n",
    "        # use automatic differentiation to compute a \n",
    "        # noisy approximation of the local gradient\n",
    "        optimizer.zero_grad()       # clear previous gradients\n",
    "        empirical_risk.backward()   # compute gradients\n",
    "        \n",
    "        # finally, advance one step in the direction of steepest \n",
    "        # descent, using the noisy local gradient. \n",
    "        optimizer.step()            # move one step\n",
    "        \n",
    "        if ii % step == 0:\n",
    "            \n",
    "            acc_t = validate(model, avloss, train_x[:n], train_t[:n]) \n",
    "            acc_v = validate(model, avloss, valid_x[:n], valid_t[:n])\n",
    "\n",
    "            if len(xx) < 1:\n",
    "                xx.append(0)\n",
    "                print(\"%10d\\t%10.6f\\t%10.6f\" % \\\n",
    "                      (xx[-1], acc_t, acc_v))\n",
    "            else:\n",
    "                xx.append(xx[-1] + step)\n",
    "                print(\"\\r%10d\\t%10.6f\\t%10.6f\" % \\\n",
    "                      (xx[-1], acc_t, acc_v), end='')\n",
    "                \n",
    "            yy_t.append(acc_t)\n",
    "            yy_v.append(acc_v)\n",
    "    print()      \n",
    "    return (xx, yy_t, yy_v)"
   ]
  },
  {
   "cell_type": "code",
   "execution_count": 14,
   "metadata": {},
   "outputs": [],
   "source": [
    "def plot_average_loss(traces):\n",
    "    \n",
    "    xx, yy_t, yy_v = traces\n",
    "    \n",
    "    # create an empty figure\n",
    "    fig = plt.figure(figsize=(5, 5))\n",
    "    fig.tight_layout()\n",
    "    \n",
    "    # add a subplot to it\n",
    "    nrows, ncols, index = 1,1,1\n",
    "    ax  = fig.add_subplot(nrows,ncols,index)\n",
    "\n",
    "    ax.set_title(\"Average loss\")\n",
    "    \n",
    "    ax.plot(xx, yy_t, 'b', lw=2, label='Training')\n",
    "    ax.plot(xx, yy_v, 'r', lw=2, label='Validation')\n",
    "\n",
    "    ax.set_xlabel('Iterations', fontsize=FONTSIZE)\n",
    "    ax.set_ylabel('average loss', fontsize=FONTSIZE)\n",
    "    ax.set_xscale('log')\n",
    "    ax.set_yscale('log')\n",
    "    ax.grid(True, which=\"both\", linestyle='-')\n",
    "    ax.legend(loc='upper right')\n",
    "\n",
    "    plt.show()"
   ]
  },
  {
   "cell_type": "markdown",
   "metadata": {
    "id": "NJC916BU-9L6"
   },
   "source": [
    "### Define model $f(\\mathbf{x}, \\theta)$"
   ]
  },
  {
   "cell_type": "code",
   "execution_count": 15,
   "metadata": {},
   "outputs": [
    {
     "name": "stdout",
     "output_type": "stream",
     "text": [
      "Overwriting dnnmodel.py\n"
     ]
    }
   ],
   "source": [
    "%%writefile dnnmodel.py\n",
    "\n",
    "import torch\n",
    "import torch.nn as nn\n",
    "\n",
    "class Model(nn.Module):\n",
    "    \n",
    "    def __init__(self, n_inputs=2, n_nodes=20, n_layers=5):\n",
    "\n",
    "        # call constructor of base (or super, or parent) class\n",
    "        super(Model, self).__init__()\n",
    "\n",
    "        self.layers = []\n",
    "        \n",
    "        # create input layer\n",
    "        self.layer0 = nn.Linear(n_inputs, n_nodes)\n",
    "        self.layers.append(self.layer0)\n",
    "\n",
    "        # create \"hidden\" layers\n",
    "        for l in range(1, n_layers):\n",
    "            cmd = 'self.layer%d = nn.Linear(%d, %d)' % \\\n",
    "            (l, n_nodes, n_nodes)\n",
    "            exec(cmd)\n",
    "            cmd = 'self.layers.append(self.layer%d)' % l\n",
    "            exec(cmd)\n",
    "          \n",
    "        # create output layer\n",
    "        cmd = 'self.layer%d = nn.Linear(%d, 1)' % (n_layers, n_nodes)\n",
    "        exec(cmd)\n",
    "        cmd = 'self.layers.append(self.layer%d)' % n_layers\n",
    "        exec(cmd)\n",
    "\n",
    "    # define (required) method to compute output of network\n",
    "    def forward(self, x):\n",
    "        y = x\n",
    "        for layer in self.layers[:-1]:\n",
    "            y = layer(y)\n",
    "            y = torch.relu(y)\n",
    "        y = self.layers[-1](y)\n",
    "        y = torch.sigmoid(y)\n",
    "        return y\n"
   ]
  },
  {
   "cell_type": "code",
   "execution_count": 16,
   "metadata": {},
   "outputs": [
    {
     "name": "stdout",
     "output_type": "stream",
     "text": [
      "Model(\n",
      "  (layer0): Linear(in_features=2, out_features=20, bias=True)\n",
      "  (layer1): Linear(in_features=20, out_features=20, bias=True)\n",
      "  (layer2): Linear(in_features=20, out_features=20, bias=True)\n",
      "  (layer3): Linear(in_features=20, out_features=20, bias=True)\n",
      "  (layer4): Linear(in_features=20, out_features=20, bias=True)\n",
      "  (layer5): Linear(in_features=20, out_features=1, bias=True)\n",
      ")\n"
     ]
    }
   ],
   "source": [
    "import dnnmodel\n",
    "importlib.reload(dnnmodel)\n",
    "model = dnnmodel.Model()\n",
    "print(model)"
   ]
  },
  {
   "cell_type": "markdown",
   "metadata": {},
   "source": [
    "### Train!"
   ]
  },
  {
   "cell_type": "markdown",
   "metadata": {
    "id": "e8R55NgQL4EC"
   },
   "source": [
    "Instantiate an optimizer, then train"
   ]
  },
  {
   "cell_type": "code",
   "execution_count": 17,
   "metadata": {},
   "outputs": [],
   "source": [
    "learning_rate = 1.e-3\n",
    "optimizer     = torch.optim.Adam(model.parameters(), \n",
    "                                 lr=learning_rate) \n",
    "\n",
    "traces = ([], [], [])\n",
    "traces_step = 10"
   ]
  },
  {
   "cell_type": "code",
   "execution_count": 18,
   "metadata": {},
   "outputs": [
    {
     "name": "stdout",
     "output_type": "stream",
     "text": [
      "Iteration vs average loss\n",
      " iteration\t train-set\t valid-set\n",
      "         0\t  0.264638\t  0.263988\n",
      "     19990\t  0.061724\t  0.061372\n",
      "Iteration vs average loss\n",
      " iteration\t train-set\t valid-set\n",
      "     29990\t  0.061578\t  0.061278\n"
     ]
    },
    {
     "data": {
      "image/png": "[encoded data removed]",
      "text/plain": [
       "<Figure size 360x360 with 1 Axes>"
      ]
     },
     "metadata": {
      "needs_background": "light"
     },
     "output_type": "display_data"
    }
   ],
   "source": [
    "n_batch       = 50\n",
    "n_iterations  = 20000\n",
    "\n",
    "traces = train(model, optimizer, average_loss,\n",
    "               get_batch,\n",
    "               train_x, train_t, \n",
    "               valid_x, valid_t,\n",
    "               n_batch, \n",
    "               n_iterations,\n",
    "               traces,\n",
    "               step=traces_step)\n",
    "\n",
    "n_batch       = 500\n",
    "n_iterations  = 10000\n",
    "\n",
    "traces = train(model, optimizer, average_loss,\n",
    "               get_batch,\n",
    "               train_x, train_t, \n",
    "               valid_x, valid_t,\n",
    "               n_batch, \n",
    "               n_iterations,\n",
    "               traces,\n",
    "               step=traces_step)\n",
    "\n",
    "plot_average_loss(traces)"
   ]
  },
  {
   "cell_type": "code",
   "execution_count": 19,
   "metadata": {},
   "outputs": [],
   "source": [
    "def usemodel(data, N,               \n",
    "             xbins=XBINS, \n",
    "             xmin=XMIN, \n",
    "             xmax=XMAX):\n",
    "    \n",
    "    # bin boundaries\n",
    "    h = (xmax-xmin)/xbins\n",
    "    bb= np.arange(xmin, xmax + h, h)\n",
    "    \n",
    "    # bin centers\n",
    "    x = (bb[1:]+bb[:-1])/2\n",
    "    d = torch.Tensor([[q, N] for q in x])\n",
    "    \n",
    "    # compute using trained, that is, fitted, model\n",
    "    model.eval()\n",
    "    y = model(d).detach().numpy()\n",
    "    p = DL(N, x)\n",
    "    \n",
    "    return y, p, bb"
   ]
  },
  {
   "cell_type": "code",
   "execution_count": 20,
   "metadata": {},
   "outputs": [
    {
     "data": {
      "image/png": "[encoded data removed]",
      "text/plain": [
       "<Figure size 720x432 with 6 Axes>"
      ]
     },
     "metadata": {
      "needs_background": "light"
     },
     "output_type": "display_data"
    }
   ],
   "source": [
    "plot_data(data, usemodel, Nmin, Nmax, gfile='fig_model_vs_DL.png') "
   ]
  },
  {
   "cell_type": "markdown",
   "metadata": {},
   "source": [
    "### Computing 90% upper limits exactly, and compare to LFI method\n",
    "\n",
    "Let's now compute some upper limits using our trained model and compare with the exact calculation."
   ]
  },
  {
   "cell_type": "code",
   "execution_count": 21,
   "metadata": {},
   "outputs": [
    {
     "name": "stdout",
     "output_type": "stream",
     "text": [
      "     count\t     exact\t    approx\n",
      "         0\t       2.3\t       2.5\n",
      "         1\t       3.9\t       4.0\n",
      "         2\t       5.3\t       5.4\n",
      "         3\t       6.7\t       6.8\n",
      "         4\t       8.0\t       8.2\n",
      "         5\t       9.3\t       9.4\n",
      "         6\t      10.5\t      10.5\n",
      "         7\t      11.8\t      11.6\n",
      "         8\t      13.0\t      12.8\n",
      "         9\t      14.2\t      13.9\n",
      "        10\t      15.4\t      15.0\n"
     ]
    }
   ],
   "source": [
    "CL = 0.90\n",
    "ALPHA = 1 - CL\n",
    "\n",
    "def computeUpperLimit(n, func):\n",
    "    dn   = 2*np.sqrt(n)         \n",
    "    amin = n \n",
    "    amax = n + dn + 5\n",
    "    u    = op.brentq(func, amin, amax, args=(n)) \n",
    "    return u\n",
    "\n",
    "def func1(u, n):\n",
    "    return DL(n, u) - ALPHA\n",
    "\n",
    "def func2(u, n):\n",
    "    model.eval()\n",
    "    X = torch.Tensor([[u, n]])\n",
    "    return model(X).detach().numpy() - ALPHA\n",
    "\n",
    "print('%10s\\t%10s\\t%10s' % ('count', 'exact', 'approx'))\n",
    "\n",
    "for n in np.arange(0, 11, 1):\n",
    "    u1 = computeUpperLimit(n, func1)\n",
    "    u2 = computeUpperLimit(n, func2)\n",
    "    print('%10d\\t%10.1f\\t%10.1f' % (n, u1, u2))"
   ]
  },
  {
   "cell_type": "markdown",
   "metadata": {},
   "source": [
    "# plot upper, lower and central intervals for one-parameter problem given a CL, $N$, and the CDF, and compare to model output (under construction, might be overkill, especially since we're interested in the 2-parameter problem)"
   ]
  },
  {
   "cell_type": "code",
   "execution_count": null,
   "metadata": {},
   "outputs": [],
   "source": [
    "def get_lower_upper_bounds(Nrnage, thetarange, cdf, CL_list):\n",
    "    \"\"\"plot the confidence intervals for one-parameter problem given CDF \"\"\"\n",
    "    for CL in CL_list"
   ]
  },
  {
   "cell_type": "code",
   "execution_count": null,
   "metadata": {},
   "outputs": [],
   "source": []
  }
 ],
 "metadata": {
  "accelerator": "GPU",
  "colab": {
   "collapsed_sections": [],
   "name": "DRL_19_REINFORCE_Algorithm.ipynb",
   "provenance": []
  },
  "kernelspec": {
   "display_name": "Python 3",
   "language": "python",
   "name": "python3"
  },
  "language_info": {
   "codemirror_mode": {
    "name": "ipython",
    "version": 3
   },
   "file_extension": ".py",
   "mimetype": "text/x-python",
   "name": "python",
   "nbconvert_exporter": "python",
   "pygments_lexer": "ipython3",
   "version": "3.7.10"
  }
 },
 "nbformat": 4,
 "nbformat_minor": 4
}
